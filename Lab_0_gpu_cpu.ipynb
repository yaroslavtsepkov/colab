{
  "nbformat": 4,
  "nbformat_minor": 0,
  "metadata": {
    "colab": {
      "name": "Lab_0_gpu_cpu.ipynb",
      "provenance": [],
      "collapsed_sections": [],
      "toc_visible": true,
      "authorship_tag": "ABX9TyNgUTpZey/AlA2AdTo7YlTL",
      "include_colab_link": true
    },
    "kernelspec": {
      "name": "python3",
      "display_name": "Python 3"
    },
    "accelerator": "GPU"
  },
  "cells": [
    {
      "cell_type": "markdown",
      "metadata": {
        "id": "view-in-github",
        "colab_type": "text"
      },
      "source": [
        "<a href=\"https://colab.research.google.com/github/yaroslavtsepkov/colab/blob/lab_0/Lab_0_gpu_cpu.ipynb\" target=\"_parent\"><img src=\"https://colab.research.google.com/assets/colab-badge.svg\" alt=\"Open In Colab\"/></a>"
      ]
    },
    {
      "cell_type": "markdown",
      "metadata": {
        "id": "71kDd80VJcA6"
      },
      "source": [
        "# CPU INFO"
      ]
    },
    {
      "cell_type": "code",
      "metadata": {
        "id": "xgcbZhZA_z05",
        "outputId": "9325b2db-6909-4e45-e008-a98757ef628e",
        "colab": {
          "base_uri": "https://localhost:8080/"
        }
      },
      "source": [
        "!lscpu |grep 'Model name'"
      ],
      "execution_count": 102,
      "outputs": [
        {
          "output_type": "stream",
          "text": [
            "Model name:          Intel(R) Xeon(R) CPU @ 2.20GHz\n"
          ],
          "name": "stdout"
        }
      ]
    },
    {
      "cell_type": "markdown",
      "metadata": {
        "id": "QBehyCremV7q"
      },
      "source": [
        "# GPU INFO"
      ]
    },
    {
      "cell_type": "code",
      "metadata": {
        "id": "wDySlvXomVNA",
        "outputId": "7b3ea281-a4a6-4cb8-85b8-17658109e6b2",
        "colab": {
          "base_uri": "https://localhost:8080/"
        }
      },
      "source": [
        "!nvidia-smi"
      ],
      "execution_count": 103,
      "outputs": [
        {
          "output_type": "stream",
          "text": [
            "Mon Nov  2 04:38:29 2020       \n",
            "+-----------------------------------------------------------------------------+\n",
            "| NVIDIA-SMI 455.32.00    Driver Version: 418.67       CUDA Version: 10.1     |\n",
            "|-------------------------------+----------------------+----------------------+\n",
            "| GPU  Name        Persistence-M| Bus-Id        Disp.A | Volatile Uncorr. ECC |\n",
            "| Fan  Temp  Perf  Pwr:Usage/Cap|         Memory-Usage | GPU-Util  Compute M. |\n",
            "|                               |                      |               MIG M. |\n",
            "|===============================+======================+======================|\n",
            "|   0  Tesla T4            Off  | 00000000:00:04.0 Off |                    0 |\n",
            "| N/A   64C    P0    30W /  70W |    888MiB / 15079MiB |      0%      Default |\n",
            "|                               |                      |                 ERR! |\n",
            "+-------------------------------+----------------------+----------------------+\n",
            "                                                                               \n",
            "+-----------------------------------------------------------------------------+\n",
            "| Processes:                                                                  |\n",
            "|  GPU   GI   CI        PID   Type   Process name                  GPU Memory |\n",
            "|        ID   ID                                                   Usage      |\n",
            "|=============================================================================|\n",
            "|  No running processes found                                                 |\n",
            "+-----------------------------------------------------------------------------+\n"
          ],
          "name": "stdout"
        }
      ]
    },
    {
      "cell_type": "markdown",
      "metadata": {
        "id": "u_ynz-JWfn0l"
      },
      "source": [
        "\n",
        "# Matrix multiplication\n"
      ]
    },
    {
      "cell_type": "code",
      "metadata": {
        "id": "2lRpRZX7w9Na",
        "outputId": "b86dc0f6-486e-4fdb-a430-d7baf3ea17ca",
        "colab": {
          "base_uri": "https://localhost:8080/"
        }
      },
      "source": [
        "!pip install pycuda\n",
        "!pip install scikit-cuda\n",
        "import numpy as np\n",
        "import cupy as cp\n",
        "import time\n",
        "import pandas as pd\n",
        "import matplotlib.pyplot as plt\n",
        "from pycuda import driver, compiler, gpuarray, tools\n",
        "import pycuda.autoinit\n",
        "from pycuda.tools import make_default_context\n",
        "import random\n",
        "import skcuda.linalg as linalg\n",
        "random.seed(0)"
      ],
      "execution_count": 104,
      "outputs": [
        {
          "output_type": "stream",
          "text": [
            "Requirement already satisfied: pycuda in /usr/local/lib/python3.6/dist-packages (2020.1)\n",
            "Requirement already satisfied: pytools>=2011.2 in /usr/local/lib/python3.6/dist-packages (from pycuda) (2020.4.3)\n",
            "Requirement already satisfied: appdirs>=1.4.0 in /usr/local/lib/python3.6/dist-packages (from pycuda) (1.4.4)\n",
            "Requirement already satisfied: mako in /usr/local/lib/python3.6/dist-packages (from pycuda) (1.1.3)\n",
            "Requirement already satisfied: decorator>=3.2.0 in /usr/local/lib/python3.6/dist-packages (from pycuda) (4.4.2)\n",
            "Requirement already satisfied: dataclasses>=0.7; python_version <= \"3.6\" in /usr/local/lib/python3.6/dist-packages (from pytools>=2011.2->pycuda) (0.7)\n",
            "Requirement already satisfied: six>=1.8.0 in /usr/local/lib/python3.6/dist-packages (from pytools>=2011.2->pycuda) (1.15.0)\n",
            "Requirement already satisfied: numpy>=1.6.0 in /usr/local/lib/python3.6/dist-packages (from pytools>=2011.2->pycuda) (1.18.5)\n",
            "Requirement already satisfied: MarkupSafe>=0.9.2 in /usr/local/lib/python3.6/dist-packages (from mako->pycuda) (1.1.1)\n",
            "Requirement already satisfied: scikit-cuda in /usr/local/lib/python3.6/dist-packages (0.5.3)\n",
            "Requirement already satisfied: numpy>=1.2.0 in /usr/local/lib/python3.6/dist-packages (from scikit-cuda) (1.18.5)\n",
            "Requirement already satisfied: mako>=1.0.1 in /usr/local/lib/python3.6/dist-packages (from scikit-cuda) (1.1.3)\n",
            "Requirement already satisfied: pycuda>=2016.1 in /usr/local/lib/python3.6/dist-packages (from scikit-cuda) (2020.1)\n",
            "Requirement already satisfied: MarkupSafe>=0.9.2 in /usr/local/lib/python3.6/dist-packages (from mako>=1.0.1->scikit-cuda) (1.1.1)\n",
            "Requirement already satisfied: appdirs>=1.4.0 in /usr/local/lib/python3.6/dist-packages (from pycuda>=2016.1->scikit-cuda) (1.4.4)\n",
            "Requirement already satisfied: pytools>=2011.2 in /usr/local/lib/python3.6/dist-packages (from pycuda>=2016.1->scikit-cuda) (2020.4.3)\n",
            "Requirement already satisfied: decorator>=3.2.0 in /usr/local/lib/python3.6/dist-packages (from pycuda>=2016.1->scikit-cuda) (4.4.2)\n",
            "Requirement already satisfied: six>=1.8.0 in /usr/local/lib/python3.6/dist-packages (from pytools>=2011.2->pycuda>=2016.1->scikit-cuda) (1.15.0)\n",
            "Requirement already satisfied: dataclasses>=0.7; python_version <= \"3.6\" in /usr/local/lib/python3.6/dist-packages (from pytools>=2011.2->pycuda>=2016.1->scikit-cuda) (0.7)\n"
          ],
          "name": "stdout"
        }
      ]
    },
    {
      "cell_type": "code",
      "metadata": {
        "id": "0L2B1yIZd-IM"
      },
      "source": [
        "def genMatrix(n):\n",
        "    return np.random.uniform(size=(n,n)).astype(np.float32)"
      ],
      "execution_count": 105,
      "outputs": []
    },
    {
      "cell_type": "markdown",
      "metadata": {
        "id": "qEP-zO3GCOqd"
      },
      "source": [
        "# Перемножение матриц на CPU numpy.matmul"
      ]
    },
    {
      "cell_type": "code",
      "metadata": {
        "id": "oD70YAzRFKEb"
      },
      "source": [
        "def cpuMult(size):\n",
        "    time_cpu = []\n",
        "    for n in size:\n",
        "        matrix = genMatrix(n)\n",
        "        s = time.time()\n",
        "        np.matmul(matrix, matrix)\n",
        "        p = time.time()\n",
        "        time_cpu.append(p-s)\n",
        "    return np.array(time_cpu)"
      ],
      "execution_count": 106,
      "outputs": []
    },
    {
      "cell_type": "markdown",
      "metadata": {
        "id": "U-2qmrnhB_-l"
      },
      "source": [
        "# Перемножение матриц на GPU с cupy.matmul"
      ]
    },
    {
      "cell_type": "code",
      "metadata": {
        "id": "NJLk07eugYEf"
      },
      "source": [
        "def gpuMult(n):\n",
        "    time_cupy = []\n",
        "    for n in size:\n",
        "        matrix = cp.array(genMatrix(n))\n",
        "        s = time.time()\n",
        "        cp.matmul(matrix, matrix)\n",
        "        p = time.time()\n",
        "        time_cupy.append(p-s)\n",
        "    return np.array(time_cupy)"
      ],
      "execution_count": 107,
      "outputs": []
    },
    {
      "cell_type": "markdown",
      "metadata": {
        "id": "rQDn63r4D7NV"
      },
      "source": [
        "# Перемножение матриц на GPU pyCUDA"
      ]
    },
    {
      "cell_type": "code",
      "metadata": {
        "id": "AvJOjmsHD6XW"
      },
      "source": [
        "def gpuPyCuda(n):\n",
        "    time_pycuda = []\n",
        "    for n in size:\n",
        "        matrix = genMatrix(n)\n",
        "        matrix = gpuarray.to_gpu(matrix) \n",
        "        matrix_result = gpuarray.empty((n, n), np.float32)\n",
        "        mod = compiler.SourceModule(\"\"\"\n",
        "__global__ void MatrixMulKernel(float *a, float *b, float *c)\n",
        "{\n",
        "    int idx = threadIdx.x + blockIdx.x * blockDim.x;\n",
        "    int idy = threadIdx.y + blockIdx.y * blockDim.y;\n",
        "    float Pvalue = 0;\n",
        "\n",
        "    for (int k = 0; k < %(MATRIX_SIZE)s; ++k) {\n",
        "        Pvalue += a[idy * %(MATRIX_SIZE)s + k] * b[k * %(MATRIX_SIZE)s + idx];\n",
        "    }\n",
        "    c[idy * %(MATRIX_SIZE)s + idx] = Pvalue;\n",
        "}\n",
        "\"\"\" % {'MATRIX_SIZE': n} )\n",
        "        matrixmul = mod.get_function(\"MatrixMulKernel\")\n",
        "        s = time.time()\n",
        "        matrixmul(matrix, matrix, matrix_result, block = (32, 32, 1),)\n",
        "        p = time.time()\n",
        "        time_pycuda.append(p-s)\n",
        "    return np.array(time_pycuda)"
      ],
      "execution_count": 108,
      "outputs": []
    },
    {
      "cell_type": "markdown",
      "metadata": {
        "id": "b_p7P0cJX0o4"
      },
      "source": [
        "# Перемножение матриц на GPU skCUDA"
      ]
    },
    {
      "cell_type": "code",
      "metadata": {
        "id": "mHkgF8sKM_J4"
      },
      "source": [
        "def gpuSkCuda(n):\n",
        "    time_pycuda = []\n",
        "    for n in size:\n",
        "        matrix = genMatrix(n)\n",
        "        matrix = gpuarray.to_gpu(matrix) \n",
        "        s = time.time()\n",
        "        linalg.mdot(matrix, matrix)\n",
        "        p = time.time()\n",
        "        time_pycuda.append(p-s)\n",
        "    return np.array(time_pycuda)"
      ],
      "execution_count": 109,
      "outputs": []
    },
    {
      "cell_type": "markdown",
      "metadata": {
        "id": "XjAmJ2djDUyx"
      },
      "source": [
        "# Вычисления"
      ]
    },
    {
      "cell_type": "code",
      "metadata": {
        "id": "z-OJJZF6RCYv"
      },
      "source": [
        "startSizeMatrix = 50\n",
        "size = list(range(50, 2001, 50))"
      ],
      "execution_count": 110,
      "outputs": []
    },
    {
      "cell_type": "code",
      "metadata": {
        "id": "G9nDSk3eMYj6"
      },
      "source": [
        "time_cpu = cpuMult(size)"
      ],
      "execution_count": 111,
      "outputs": []
    },
    {
      "cell_type": "code",
      "metadata": {
        "id": "-UEHQMEkMahn"
      },
      "source": [
        "time_cupy = gpuMult(size)"
      ],
      "execution_count": 112,
      "outputs": []
    },
    {
      "cell_type": "code",
      "metadata": {
        "id": "5gkc6WQDMbwj"
      },
      "source": [
        "time_pycuda = gpuPyCuda(size)"
      ],
      "execution_count": 113,
      "outputs": []
    },
    {
      "cell_type": "code",
      "metadata": {
        "id": "L5z6e4bUTIxK"
      },
      "source": [
        "linalg.init()\n",
        "time_skcuda = gpuSkCuda(size)"
      ],
      "execution_count": 114,
      "outputs": []
    },
    {
      "cell_type": "markdown",
      "metadata": {
        "id": "V5ilK0pyDWxl"
      },
      "source": [
        "# Анализ и визуализация"
      ]
    },
    {
      "cell_type": "code",
      "metadata": {
        "id": "A5YoBf1bPELL",
        "outputId": "bbc5085f-62ba-4875-e905-c04fe4dc5021",
        "colab": {
          "base_uri": "https://localhost:8080/",
          "height": 206
        }
      },
      "source": [
        "df = pd.DataFrame({\n",
        "    'size_of_matrix': size_list_cpu,\n",
        "    'time_for_CPU': time_cpu,\n",
        "    'time_for_GPU_cupy': time_cupy,\n",
        "    'time_for_GPU_pycuda': time_pycuda,\n",
        "    'time_for_GPU_skcuda': time_skcuda,\n",
        "    'boost cupy & cpu': time_cpu / time_cupy,\n",
        "    'boost pycuda & cpu': time_cpu/ time_pycuda,\n",
        "    'boost skcuda & cpu': time_cpu/ time_skcuda,\n",
        "})\n",
        "df.head()"
      ],
      "execution_count": 115,
      "outputs": [
        {
          "output_type": "execute_result",
          "data": {
            "text/html": [
              "<div>\n",
              "<style scoped>\n",
              "    .dataframe tbody tr th:only-of-type {\n",
              "        vertical-align: middle;\n",
              "    }\n",
              "\n",
              "    .dataframe tbody tr th {\n",
              "        vertical-align: top;\n",
              "    }\n",
              "\n",
              "    .dataframe thead th {\n",
              "        text-align: right;\n",
              "    }\n",
              "</style>\n",
              "<table border=\"1\" class=\"dataframe\">\n",
              "  <thead>\n",
              "    <tr style=\"text-align: right;\">\n",
              "      <th></th>\n",
              "      <th>size_of_matrix</th>\n",
              "      <th>time_for_CPU</th>\n",
              "      <th>time_for_GPU_cupy</th>\n",
              "      <th>time_for_GPU_pycuda</th>\n",
              "      <th>time_for_GPU_skcuda</th>\n",
              "      <th>boost cupy &amp; cpu</th>\n",
              "      <th>boost pycuda &amp; cpu</th>\n",
              "      <th>boost skcuda &amp; cpu</th>\n",
              "    </tr>\n",
              "  </thead>\n",
              "  <tbody>\n",
              "    <tr>\n",
              "      <th>0</th>\n",
              "      <td>50</td>\n",
              "      <td>0.000174</td>\n",
              "      <td>0.001865</td>\n",
              "      <td>0.000168</td>\n",
              "      <td>0.000624</td>\n",
              "      <td>0.093454</td>\n",
              "      <td>1.035411</td>\n",
              "      <td>0.279221</td>\n",
              "    </tr>\n",
              "    <tr>\n",
              "      <th>1</th>\n",
              "      <td>100</td>\n",
              "      <td>0.009443</td>\n",
              "      <td>0.000057</td>\n",
              "      <td>0.000090</td>\n",
              "      <td>0.000193</td>\n",
              "      <td>165.719665</td>\n",
              "      <td>104.780423</td>\n",
              "      <td>48.837238</td>\n",
              "    </tr>\n",
              "    <tr>\n",
              "      <th>2</th>\n",
              "      <td>150</td>\n",
              "      <td>0.000166</td>\n",
              "      <td>0.000039</td>\n",
              "      <td>0.000080</td>\n",
              "      <td>0.000265</td>\n",
              "      <td>4.296296</td>\n",
              "      <td>2.077612</td>\n",
              "      <td>0.625899</td>\n",
              "    </tr>\n",
              "    <tr>\n",
              "      <th>3</th>\n",
              "      <td>200</td>\n",
              "      <td>0.000389</td>\n",
              "      <td>0.000060</td>\n",
              "      <td>0.000047</td>\n",
              "      <td>0.000246</td>\n",
              "      <td>6.501992</td>\n",
              "      <td>8.284264</td>\n",
              "      <td>1.581395</td>\n",
              "    </tr>\n",
              "    <tr>\n",
              "      <th>4</th>\n",
              "      <td>250</td>\n",
              "      <td>0.000707</td>\n",
              "      <td>0.000052</td>\n",
              "      <td>0.000044</td>\n",
              "      <td>0.000183</td>\n",
              "      <td>13.600917</td>\n",
              "      <td>16.027027</td>\n",
              "      <td>3.855657</td>\n",
              "    </tr>\n",
              "  </tbody>\n",
              "</table>\n",
              "</div>"
            ],
            "text/plain": [
              "   size_of_matrix  time_for_CPU  ...  boost pycuda & cpu  boost skcuda & cpu\n",
              "0              50      0.000174  ...            1.035411            0.279221\n",
              "1             100      0.009443  ...          104.780423           48.837238\n",
              "2             150      0.000166  ...            2.077612            0.625899\n",
              "3             200      0.000389  ...            8.284264            1.581395\n",
              "4             250      0.000707  ...           16.027027            3.855657\n",
              "\n",
              "[5 rows x 8 columns]"
            ]
          },
          "metadata": {
            "tags": []
          },
          "execution_count": 115
        }
      ]
    },
    {
      "cell_type": "code",
      "metadata": {
        "id": "aU8H3-u8CeKh",
        "outputId": "0d885e44-5d58-497b-e56f-029a1e80d0c5",
        "colab": {
          "base_uri": "https://localhost:8080/",
          "height": 92
        }
      },
      "source": [
        "df.to_csv(index=False)"
      ],
      "execution_count": 116,
      "outputs": [
        {
          "output_type": "execute_result",
          "data": {
            "application/vnd.google.colaboratory.intrinsic+json": {
              "type": "string"
            },
            "text/plain": [
              "'size_of_matrix,time_for_CPU,time_for_GPU_cupy,time_for_GPU_pycuda,time_for_GPU_skcuda,boost cupy & cpu,boost pycuda & cpu,boost skcuda & cpu\\n50,0.0001742839813232422,0.0018649101257324219,0.00016832351684570312,0.0006241798400878906,0.0934543594988494,1.0354107648725213,0.2792207792207792\\n100,0.009443044662475586,5.698204040527344e-05,9.012222290039062e-05,0.0001933574676513672,165.71966527196653,104.78042328042328,48.83723797780518\\n150,0.0001659393310546875,3.8623809814453125e-05,7.987022399902344e-05,0.0002651214599609375,4.296296296296297,2.0776119402985076,0.6258992805755396\\n200,0.00038909912109375,5.984306335449219e-05,4.696846008300781e-05,0.0002460479736328125,6.50199203187251,8.284263959390863,1.5813953488372092\\n250,0.0007069110870361328,5.1975250244140625e-05,4.410743713378906e-05,0.00018334388732910156,13.600917431192661,16.027027027027028,3.8556566970091026\\n300,0.0010745525360107422,6.079673767089844e-05,4.863739013671875e-05,0.0002560615539550781,17.67450980392157,22.09313725490196,4.196461824953445\\n350,0.0019228458404541016,0.0002567768096923828,5.054473876953125e-05,0.00028324127197265625,7.488393686165274,38.04245283018868,6.788720538720539\\n400,0.0018188953399658203,5.53131103515625e-05,4.267692565917969e-05,0.0002396106719970703,32.883620689655174,42.62011173184357,7.591044776119403\\n450,0.0027201175689697266,5.507469177246094e-05,4.9591064453125e-05,0.00032401084899902344,49.38961038961039,54.85096153846154,8.39514348785872\\n500,0.003815889358520508,4.839897155761719e-05,5.125999450683594e-05,0.0006022453308105469,78.8423645320197,74.44186046511628,6.336104513064133\\n550,0.005584239959716797,7.081031799316406e-05,4.673004150390625e-05,0.0006773471832275391,78.86195286195286,119.5,8.244280183034142\\n600,0.006295919418334961,6.628036499023438e-05,4.3392181396484375e-05,0.0006568431854248047,94.98920863309353,145.0934065934066,9.585117967332124\\n650,0.0069429874420166016,6.4849853515625e-05,7.867813110351562e-05,0.000720977783203125,107.0625,88.24545454545455,9.629960317460318\\n700,0.00956416130065918,6.29425048828125e-05,4.839897155761719e-05,0.0007457733154296875,151.95075757575756,197.61083743842366,12.824488491048593\\n750,0.011501789093017578,5.1975250244140625e-05,4.482269287109375e-05,0.0008637905120849609,221.29357798165137,256.6063829787234,13.31548440518907\\n800,0.013453483581542969,6.556510925292969e-05,4.38690185546875e-05,0.0009889602661132812,205.19272727272727,306.67391304347825,13.603664416586307\\n850,0.016572237014770508,6.461143493652344e-05,5.984306335449219e-05,0.0010640621185302734,256.4907749077491,276.9282868525896,15.57450145641945\\n900,0.030832767486572266,6.389617919921875e-05,4.506111145019531e-05,0.0011801719665527344,482.54477611940297,684.2433862433862,26.125656565656566\\n950,0.024797916412353516,7.891654968261719e-05,4.553794860839844e-05,0.0012099742889404297,314.2296072507553,544.5549738219895,20.49458128078818\\n1000,0.0273740291595459,5.8650970458984375e-05,4.5299530029296875e-05,0.0013976097106933594,466.7276422764228,604.2894736842105,19.586318662572502\\n1050,0.03392171859741211,5.888938903808594e-05,4.553794860839844e-05,0.0016222000122070312,576.0242914979757,744.9109947643979,20.91093474426808\\n1100,0.0399169921875,5.936622619628906e-05,4.38690185546875e-05,0.0017483234405517578,672.3855421686746,909.9130434782609,22.831583253784263\\n1150,0.05141258239746094,7.987022399902344e-05,5.888938903808594e-05,0.001837015151977539,643.7014925373135,873.0364372469636,27.9870214146658\\n1200,0.04818367958068848,6.0558319091796875e-05,6.175041198730469e-05,0.001997232437133789,795.6574803149606,780.2972972972973,24.125223827145756\\n1250,0.06012248992919922,6.151199340820312e-05,5.221366882324219e-05,0.0021784305572509766,977.4108527131783,1151.4703196347032,27.598993104957863\\n1300,0.06436848640441895,7.224082946777344e-05,5.364418029785156e-05,0.0025129318237304688,891.026402640264,1199.9155555555556,25.614895635673623\\n1350,0.074371337890625,7.295608520507812e-05,5.340576171875e-05,0.0031974315643310547,1019.3986928104575,1392.5714285714287,23.259712176571472\\n1400,0.0889136791229248,7.62939453125e-05,5.030632019042969e-05,0.0029532909393310547,1165.409375,1767.4454976303318,30.106644062323404\\n1450,0.09305453300476074,9.083747863769531e-05,5.054473876953125e-05,0.0034935474395751953,1024.4068241469815,1841.0330188679245,26.63611547123456\\n1500,0.11243200302124023,9.059906005859375e-05,5.364418029785156e-05,0.0036172866821289062,1240.9842105263158,2095.8844444444444,31.081861323490642\\n1550,0.10320019721984863,8.821487426757812e-05,5.841255187988281e-05,0.004346609115600586,1169.872972972973,1766.7469387755102,23.742691020788765\\n1600,0.10597753524780273,9.059906005859375e-05,5.507469177246094e-05,0.0039730072021484375,1169.7421052631578,1924.2510822510822,26.674387902064332\\n1650,0.11513447761535645,0.00010561943054199219,5.6743621826171875e-05,0.004258155822753906,1090.0880361173815,2029.0294117647059,27.03857782754759\\n1700,0.1422431468963623,9.393692016601562e-05,5.6743621826171875e-05,0.004748106002807617,1514.2411167512691,2506.768907563025,29.957870951544063\\n1750,0.14757108688354492,0.00011682510375976562,5.7220458984375e-05,0.00495147705078125,1263.1795918367347,2578.991666666667,29.803447611710325\\n1800,0.16335558891296387,0.00010156631469726562,5.936622619628906e-05,0.0054798126220703125,1608.3638497652582,2751.6586345381525,29.810433344935607\\n1850,0.17212462425231934,0.00010395050048828125,5.841255187988281e-05,0.005728960037231445,1655.8325688073394,2946.7061224489794,30.044654375962377\\n1900,0.19133496284484863,0.00013589859008789062,5.841255187988281e-05,0.005975246429443359,1407.9245614035087,3275.579591836735,32.02126725720214\\n1950,0.20875287055969238,0.00011658668518066406,6.556510925292969e-05,0.0067899227142333984,1790.5378323108384,3183.9018181818183,30.744513501176307\\n2000,0.2203068733215332,0.00010895729064941406,6.222724914550781e-05,0.0071756839752197266,2021.9562363238513,3540.360153256705,30.701863973153472\\n'"
            ]
          },
          "metadata": {
            "tags": []
          },
          "execution_count": 116
        }
      ]
    },
    {
      "cell_type": "code",
      "metadata": {
        "id": "nXf9Rxid3OiH",
        "outputId": "3e08105e-fb63-4a4a-987d-7aac23857986",
        "colab": {
          "base_uri": "https://localhost:8080/",
          "height": 924
        }
      },
      "source": [
        "fig, (ax1, ax2) = plt.subplots(nrows=2, ncols=1, figsize=(14,14))\n",
        "fig.suptitle('CPU VS GPU') \n",
        "\n",
        "ax1.plot(df.size_of_matrix, df.time_for_CPU, color='y', label = 'CPU', linewidth=2)\n",
        "ax1.plot(df.size_of_matrix, df.time_for_GPU_cupy, color='m', label = 'Cupy', linewidth=2)\n",
        "ax1.plot(df.size_of_matrix, df.time_for_GPU_pycuda, color='r', label = 'pyCUDA', linewidth=2)\n",
        "ax1.plot(df.size_of_matrix, df.time_for_GPU_skcuda, color='g', label = 'skCUDA', linewidth=2)\n",
        "ax1.legend(loc=\"upper left\", fontsize=14)\n",
        "ax1.set_xlabel('Matrix size')\n",
        "ax1.set_ylabel('Proccesing time')\n",
        "ax1.set_title('Matrix multiplication time')\n",
        "ax1.grid()\n",
        "\n",
        "ax2.plot(df.size_of_matrix, df['boost cupy & cpu'], label = 'cupy vs cpu', color='y', linewidth=2)\n",
        "ax2.plot(df.size_of_matrix, df['boost pycuda & cpu'],label = 'pycuda vs cpu', color='m', linewidth=2)\n",
        "ax2.plot(df.size_of_matrix, df['boost skcuda & cpu'],label = 'skcuda vs cpu', color='r', linewidth=2)\n",
        "ax2.legend(loc=\"upper left\", fontsize=14)\n",
        "ax2.set_xlabel('Matrix size')\n",
        "ax2.set_ylabel('boost')\n",
        "ax2.set_title('boost with GPU')\n",
        "ax2.grid()\n",
        "\n",
        "\n",
        "plt.show()\n",
        "fig.savefig('plot.svg')"
      ],
      "execution_count": 117,
      "outputs": [
        {
          "output_type": "display_data",
          "data": {
            "image/png": "[encoded data removed]",
            "text/plain": [
              "<Figure size 1008x1008 with 2 Axes>"
            ]
          },
          "metadata": {
            "tags": [],
            "needs_background": "light"
          }
        }
      ]
    },
    {
      "cell_type": "code",
      "metadata": {
        "id": "7FYoP37zu-6r"
      },
      "source": [
        ""
      ],
      "execution_count": 117,
      "outputs": []
    }
  ]
}