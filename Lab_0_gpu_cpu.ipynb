{
  "nbformat": 4,
  "nbformat_minor": 0,
  "metadata": {
    "colab": {
      "name": "Lab_0_gpu_cpu.ipynb",
      "provenance": [],
      "collapsed_sections": [],
      "toc_visible": true,
      "authorship_tag": "ABX9TyORw7kWE9sM4TXNpFWi+eny",
      "include_colab_link": true
    },
    "kernelspec": {
      "name": "python3",
      "display_name": "Python 3"
    },
    "accelerator": "GPU"
  },
  "cells": [
    {
      "cell_type": "markdown",
      "metadata": {
        "id": "view-in-github",
        "colab_type": "text"
      },
      "source": [
        "<a href=\"https://colab.research.google.com/github/yaroslavtsepkov/colab/blob/lab_0/Lab_0_gpu_cpu.ipynb\" target=\"_parent\"><img src=\"https://colab.research.google.com/assets/colab-badge.svg\" alt=\"Open In Colab\"/></a>"
      ]
    },
    {
      "cell_type": "markdown",
      "metadata": {
        "id": "QBehyCremV7q"
      },
      "source": [
        "# GPU INFO"
      ]
    },
    {
      "cell_type": "code",
      "metadata": {
        "id": "wDySlvXomVNA",
        "outputId": "02241531-172b-4ec2-ed13-5f811de0315b",
        "colab": {
          "base_uri": "https://localhost:8080/"
        }
      },
      "source": [
        "!nvidia-smi"
      ],
      "execution_count": 47,
      "outputs": [
        {
          "output_type": "stream",
          "text": [
            "Sun Nov  1 14:58:38 2020       \n",
            "+-----------------------------------------------------------------------------+\n",
            "| NVIDIA-SMI 455.32.00    Driver Version: 418.67       CUDA Version: 10.1     |\n",
            "|-------------------------------+----------------------+----------------------+\n",
            "| GPU  Name        Persistence-M| Bus-Id        Disp.A | Volatile Uncorr. ECC |\n",
            "| Fan  Temp  Perf  Pwr:Usage/Cap|         Memory-Usage | GPU-Util  Compute M. |\n",
            "|                               |                      |               MIG M. |\n",
            "|===============================+======================+======================|\n",
            "|   0  Tesla T4            Off  | 00000000:00:04.0 Off |                    0 |\n",
            "| N/A   72C    P0    31W /  70W |   1124MiB / 15079MiB |      0%      Default |\n",
            "|                               |                      |                 ERR! |\n",
            "+-------------------------------+----------------------+----------------------+\n",
            "                                                                               \n",
            "+-----------------------------------------------------------------------------+\n",
            "| Processes:                                                                  |\n",
            "|  GPU   GI   CI        PID   Type   Process name                  GPU Memory |\n",
            "|        ID   ID                                                   Usage      |\n",
            "|=============================================================================|\n",
            "|  No running processes found                                                 |\n",
            "+-----------------------------------------------------------------------------+\n"
          ],
          "name": "stdout"
        }
      ]
    },
    {
      "cell_type": "markdown",
      "metadata": {
        "id": "u_ynz-JWfn0l"
      },
      "source": [
        "\n",
        "# Matrix multiplication\n",
        "### CPU (numpy) VS GPU(cupy)\n"
      ]
    },
    {
      "cell_type": "code",
      "metadata": {
        "id": "2lRpRZX7w9Na",
        "outputId": "1574e83b-1377-4e49-8921-ebf5b1fb6c49",
        "colab": {
          "base_uri": "https://localhost:8080/",
          "height": 388
        }
      },
      "source": [
        "!pip install pycuda\n",
        "!pip install scikit-cuda\n",
        "from numba import cuda, float32\n",
        "import numpy as np\n",
        "import cupy as cp\n",
        "import time\n",
        "import pandas as pd\n",
        "import matplotlib.pyplot as plt\n",
        "from pycuda import driver, compiler, gpuarray, tools\n",
        "import pycuda.autoinit\n",
        "from pycuda.tools import make_default_context\n",
        "import plotly.graph_objects as go\n",
        "\n",
        "import random\n",
        "import skcuda.linalg as linalg\n",
        "random.seed(0)\n",
        "linalg.init()\n",
        "make_default_context().get_device().name()"
      ],
      "execution_count": 48,
      "outputs": [
        {
          "output_type": "stream",
          "text": [
            "Requirement already satisfied: pycuda in /usr/local/lib/python3.6/dist-packages (2020.1)\n",
            "Requirement already satisfied: decorator>=3.2.0 in /usr/local/lib/python3.6/dist-packages (from pycuda) (4.4.2)\n",
            "Requirement already satisfied: appdirs>=1.4.0 in /usr/local/lib/python3.6/dist-packages (from pycuda) (1.4.4)\n",
            "Requirement already satisfied: mako in /usr/local/lib/python3.6/dist-packages (from pycuda) (1.1.3)\n",
            "Requirement already satisfied: pytools>=2011.2 in /usr/local/lib/python3.6/dist-packages (from pycuda) (2020.4.3)\n",
            "Requirement already satisfied: MarkupSafe>=0.9.2 in /usr/local/lib/python3.6/dist-packages (from mako->pycuda) (1.1.1)\n",
            "Requirement already satisfied: six>=1.8.0 in /usr/local/lib/python3.6/dist-packages (from pytools>=2011.2->pycuda) (1.15.0)\n",
            "Requirement already satisfied: dataclasses>=0.7; python_version <= \"3.6\" in /usr/local/lib/python3.6/dist-packages (from pytools>=2011.2->pycuda) (0.7)\n",
            "Requirement already satisfied: numpy>=1.6.0 in /usr/local/lib/python3.6/dist-packages (from pytools>=2011.2->pycuda) (1.18.5)\n",
            "Requirement already satisfied: scikit-cuda in /usr/local/lib/python3.6/dist-packages (0.5.3)\n",
            "Requirement already satisfied: numpy>=1.2.0 in /usr/local/lib/python3.6/dist-packages (from scikit-cuda) (1.18.5)\n",
            "Requirement already satisfied: mako>=1.0.1 in /usr/local/lib/python3.6/dist-packages (from scikit-cuda) (1.1.3)\n",
            "Requirement already satisfied: pycuda>=2016.1 in /usr/local/lib/python3.6/dist-packages (from scikit-cuda) (2020.1)\n",
            "Requirement already satisfied: MarkupSafe>=0.9.2 in /usr/local/lib/python3.6/dist-packages (from mako>=1.0.1->scikit-cuda) (1.1.1)\n",
            "Requirement already satisfied: appdirs>=1.4.0 in /usr/local/lib/python3.6/dist-packages (from pycuda>=2016.1->scikit-cuda) (1.4.4)\n",
            "Requirement already satisfied: decorator>=3.2.0 in /usr/local/lib/python3.6/dist-packages (from pycuda>=2016.1->scikit-cuda) (4.4.2)\n",
            "Requirement already satisfied: pytools>=2011.2 in /usr/local/lib/python3.6/dist-packages (from pycuda>=2016.1->scikit-cuda) (2020.4.3)\n",
            "Requirement already satisfied: six>=1.8.0 in /usr/local/lib/python3.6/dist-packages (from pytools>=2011.2->pycuda>=2016.1->scikit-cuda) (1.15.0)\n",
            "Requirement already satisfied: dataclasses>=0.7; python_version <= \"3.6\" in /usr/local/lib/python3.6/dist-packages (from pytools>=2011.2->pycuda>=2016.1->scikit-cuda) (0.7)\n"
          ],
          "name": "stdout"
        },
        {
          "output_type": "execute_result",
          "data": {
            "application/vnd.google.colaboratory.intrinsic+json": {
              "type": "string"
            },
            "text/plain": [
              "'Tesla T4'"
            ]
          },
          "metadata": {
            "tags": []
          },
          "execution_count": 48
        }
      ]
    },
    {
      "cell_type": "markdown",
      "metadata": {
        "id": "xSK84YIZC-6e"
      },
      "source": [
        "# Ядро "
      ]
    },
    {
      "cell_type": "code",
      "metadata": {
        "id": "auG4NMfgHF_4"
      },
      "source": [
        "kernel_code_template = \"\"\"\n",
        "__global__ void MatrixMulKernel(float *a, float *b, float *c)\n",
        "{\n",
        "    int tx = threadIdx.x;\n",
        "    int ty = threadIdx.y;\n",
        "\n",
        "    float Pvalue = 0;\n",
        "\n",
        "    for (int k = 0; k < %(MATRIX_SIZE)s; ++k) {\n",
        "        float Aelement = a[ty * %(MATRIX_SIZE)s + k];\n",
        "        float Belement = b[k * %(MATRIX_SIZE)s + tx];\n",
        "        Pvalue += Aelement * Belement;\n",
        "    }\n",
        "\n",
        "    c[ty * %(MATRIX_SIZE)s + tx] = Pvalue;\n",
        "}\n",
        "\"\"\""
      ],
      "execution_count": 49,
      "outputs": []
    },
    {
      "cell_type": "code",
      "metadata": {
        "id": "0L2B1yIZd-IM"
      },
      "source": [
        "def genMatrix(n):\n",
        "    return np.random.uniform(size=(n,n)).astype(np.float32)"
      ],
      "execution_count": 50,
      "outputs": []
    },
    {
      "cell_type": "markdown",
      "metadata": {
        "id": "qEP-zO3GCOqd"
      },
      "source": [
        "# Перемножение матриц на CPU numpy.matmul"
      ]
    },
    {
      "cell_type": "code",
      "metadata": {
        "id": "oD70YAzRFKEb"
      },
      "source": [
        "def cpuMult(n):\n",
        "    size = []\n",
        "    time_cpu = []\n",
        "    while n < 2000:\n",
        "        size.append(n)\n",
        "        matrix = genMatrix(n)\n",
        "        s = time.time()\n",
        "        np.matmul(matrix, matrix)\n",
        "        p = time.time()\n",
        "        n += 50\n",
        "        time_cpu.append(p-s)\n",
        "    return size, time_cpu"
      ],
      "execution_count": 51,
      "outputs": []
    },
    {
      "cell_type": "markdown",
      "metadata": {
        "id": "U-2qmrnhB_-l"
      },
      "source": [
        "# Перемножение матриц на GPU с cupy.matmul"
      ]
    },
    {
      "cell_type": "code",
      "metadata": {
        "id": "NJLk07eugYEf"
      },
      "source": [
        "def gpuMult(n):\n",
        "    size = []\n",
        "    time_gpu = []\n",
        "    while n < 2000:\n",
        "        size.append(n)\n",
        "        matrix = cp.array(genMatrix(n))\n",
        "        s = time.time()\n",
        "        cp.matmul(matrix, matrix)\n",
        "        p = time.time()\n",
        "        n += 50\n",
        "        time_gpu.append(p-s)\n",
        "    return size, time_gpu"
      ],
      "execution_count": 52,
      "outputs": []
    },
    {
      "cell_type": "markdown",
      "metadata": {
        "id": "rQDn63r4D7NV"
      },
      "source": [
        "# Перемножение матриц на GPU pyCUDA"
      ]
    },
    {
      "cell_type": "code",
      "metadata": {
        "id": "AvJOjmsHD6XW"
      },
      "source": [
        "def gpuPyCuda(n):\n",
        "    size = []\n",
        "    time_pycuda = []\n",
        "    while n < 2000:\n",
        "        size.append(n)\n",
        "        matrix = genMatrix(n)\n",
        "        matrix = gpuarray.to_gpu(matrix) \n",
        "        matrix_result = gpuarray.empty((n, n), np.float32)\n",
        "        kernel_code = kernel_code_template % {'MATRIX_SIZE': n}  \n",
        "        mod = compiler.SourceModule(kernel_code)\n",
        "        matrixmul = mod.get_function(\"MatrixMulKernel\")\n",
        "        s = time.time()\n",
        "        matrixmul(matrix, matrix, matrix_result, block = (32, 32, 1),)\n",
        "        p = time.time()\n",
        "        n += 50\n",
        "        time_pycuda.append(p-s)\n",
        "    return size, time_pycuda"
      ],
      "execution_count": 53,
      "outputs": []
    },
    {
      "cell_type": "markdown",
      "metadata": {
        "id": "b_p7P0cJX0o4"
      },
      "source": [
        "# Перемножение матриц на GPU skCUDA"
      ]
    },
    {
      "cell_type": "code",
      "metadata": {
        "id": "mHkgF8sKM_J4"
      },
      "source": [
        "def gpuSkCuda(n):\n",
        "    size = []\n",
        "    time_pycuda = []\n",
        "    while n < 2000:\n",
        "        size.append(n)\n",
        "        matrix = genMatrix(n)\n",
        "        matrix = gpuarray.to_gpu(matrix) \n",
        "        s = time.time()\n",
        "        linalg.mdot(matrix, matrix)\n",
        "        p = time.time()\n",
        "        n += 50\n",
        "        time_pycuda.append(p-s)\n",
        "    return size, time_pycuda"
      ],
      "execution_count": 54,
      "outputs": []
    },
    {
      "cell_type": "markdown",
      "metadata": {
        "id": "XjAmJ2djDUyx"
      },
      "source": [
        "# Вычисления"
      ]
    },
    {
      "cell_type": "code",
      "metadata": {
        "id": "z-OJJZF6RCYv"
      },
      "source": [
        "startSizeMatrix = 50"
      ],
      "execution_count": 55,
      "outputs": []
    },
    {
      "cell_type": "code",
      "metadata": {
        "id": "G9nDSk3eMYj6"
      },
      "source": [
        "size_list_cpu, time_list_cpu = cpuMult(startSizeMatrix)"
      ],
      "execution_count": 56,
      "outputs": []
    },
    {
      "cell_type": "code",
      "metadata": {
        "id": "-UEHQMEkMahn"
      },
      "source": [
        "cp.cuda.Device(0).use()\n",
        "size_list_gpu, time_list_gpu = gpuMult(startSizeMatrix)"
      ],
      "execution_count": 57,
      "outputs": []
    },
    {
      "cell_type": "code",
      "metadata": {
        "id": "5gkc6WQDMbwj"
      },
      "source": [
        "size_list_gpu, time_pycuda = gpuPyCuda(startSizeMatrix)"
      ],
      "execution_count": 58,
      "outputs": []
    },
    {
      "cell_type": "code",
      "metadata": {
        "id": "L5z6e4bUTIxK"
      },
      "source": [
        "linalg.init()\n",
        "size_list_gpu, time_skcuda = gpuSkCuda(startSizeMatrix)"
      ],
      "execution_count": 81,
      "outputs": []
    },
    {
      "cell_type": "code",
      "metadata": {
        "id": "yqzVttYPKUkw"
      },
      "source": [
        "time_cpu = np.array(time_list_cpu)\n",
        "time_gpu = np.array(time_list_gpu)\n",
        "time_pycuda = np.array(time_pycuda)\n",
        "time_skcuda = np.array(time_skcuda)"
      ],
      "execution_count": 82,
      "outputs": []
    },
    {
      "cell_type": "markdown",
      "metadata": {
        "id": "V5ilK0pyDWxl"
      },
      "source": [
        "# Анализ и визуализация"
      ]
    },
    {
      "cell_type": "code",
      "metadata": {
        "id": "A5YoBf1bPELL",
        "outputId": "56e9aa54-3d25-4f22-9f64-ebe71feef8fa",
        "colab": {
          "base_uri": "https://localhost:8080/",
          "height": 206
        }
      },
      "source": [
        "df = pd.DataFrame({\n",
        "    'size_of_matrix': size_list_cpu,\n",
        "    'time_for_CPU': time_cpu,\n",
        "    'time_for_GPU_cupy': time_gpu,\n",
        "    'time_for_GPU_pycuda': time_pycuda,\n",
        "    'time_for_GPU_skcuda': time_skcuda,\n",
        "    'boost cupy & cpu': time_cpu / time_gpu,\n",
        "    'boost pycuda & cpu': time_cpu/ time_pycuda,\n",
        "    'boost skcuda & cpu': time_cpu/ time_skcuda,\n",
        "})\n",
        "df.head(5)"
      ],
      "execution_count": 83,
      "outputs": [
        {
          "output_type": "execute_result",
          "data": {
            "text/html": [
              "<div>\n",
              "<style scoped>\n",
              "    .dataframe tbody tr th:only-of-type {\n",
              "        vertical-align: middle;\n",
              "    }\n",
              "\n",
              "    .dataframe tbody tr th {\n",
              "        vertical-align: top;\n",
              "    }\n",
              "\n",
              "    .dataframe thead th {\n",
              "        text-align: right;\n",
              "    }\n",
              "</style>\n",
              "<table border=\"1\" class=\"dataframe\">\n",
              "  <thead>\n",
              "    <tr style=\"text-align: right;\">\n",
              "      <th></th>\n",
              "      <th>size_of_matrix</th>\n",
              "      <th>time_for_CPU</th>\n",
              "      <th>time_for_GPU_cupy</th>\n",
              "      <th>time_for_GPU_pycuda</th>\n",
              "      <th>time_for_GPU_skcuda</th>\n",
              "      <th>boost cupy &amp; cpu</th>\n",
              "      <th>boost pycuda &amp; cpu</th>\n",
              "      <th>boost skcuda &amp; cpu</th>\n",
              "    </tr>\n",
              "  </thead>\n",
              "  <tbody>\n",
              "    <tr>\n",
              "      <th>0</th>\n",
              "      <td>50</td>\n",
              "      <td>0.000185</td>\n",
              "      <td>0.000948</td>\n",
              "      <td>0.000126</td>\n",
              "      <td>0.286447</td>\n",
              "      <td>0.195423</td>\n",
              "      <td>1.466038</td>\n",
              "      <td>0.000647</td>\n",
              "    </tr>\n",
              "    <tr>\n",
              "      <th>1</th>\n",
              "      <td>100</td>\n",
              "      <td>0.015213</td>\n",
              "      <td>0.000150</td>\n",
              "      <td>0.000060</td>\n",
              "      <td>0.000338</td>\n",
              "      <td>101.282540</td>\n",
              "      <td>254.215139</td>\n",
              "      <td>45.062147</td>\n",
              "    </tr>\n",
              "    <tr>\n",
              "      <th>2</th>\n",
              "      <td>150</td>\n",
              "      <td>0.000314</td>\n",
              "      <td>0.000060</td>\n",
              "      <td>0.000049</td>\n",
              "      <td>0.000326</td>\n",
              "      <td>5.226190</td>\n",
              "      <td>6.393204</td>\n",
              "      <td>0.963424</td>\n",
              "    </tr>\n",
              "    <tr>\n",
              "      <th>3</th>\n",
              "      <td>200</td>\n",
              "      <td>0.000520</td>\n",
              "      <td>0.000058</td>\n",
              "      <td>0.000052</td>\n",
              "      <td>0.000286</td>\n",
              "      <td>8.971193</td>\n",
              "      <td>10.046083</td>\n",
              "      <td>1.819699</td>\n",
              "    </tr>\n",
              "    <tr>\n",
              "      <th>4</th>\n",
              "      <td>250</td>\n",
              "      <td>0.000768</td>\n",
              "      <td>0.000149</td>\n",
              "      <td>0.000049</td>\n",
              "      <td>0.000401</td>\n",
              "      <td>5.143770</td>\n",
              "      <td>15.784314</td>\n",
              "      <td>1.915526</td>\n",
              "    </tr>\n",
              "  </tbody>\n",
              "</table>\n",
              "</div>"
            ],
            "text/plain": [
              "   size_of_matrix  time_for_CPU  ...  boost pycuda & cpu  boost skcuda & cpu\n",
              "0              50      0.000185  ...            1.466038            0.000647\n",
              "1             100      0.015213  ...          254.215139           45.062147\n",
              "2             150      0.000314  ...            6.393204            0.963424\n",
              "3             200      0.000520  ...           10.046083            1.819699\n",
              "4             250      0.000768  ...           15.784314            1.915526\n",
              "\n",
              "[5 rows x 8 columns]"
            ]
          },
          "metadata": {
            "tags": []
          },
          "execution_count": 83
        }
      ]
    },
    {
      "cell_type": "code",
      "metadata": {
        "id": "nXf9Rxid3OiH",
        "outputId": "bc274200-a8a9-45c2-beda-829bd0be1dc8",
        "colab": {
          "base_uri": "https://localhost:8080/",
          "height": 924
        }
      },
      "source": [
        "fig, (ax1, ax2) = plt.subplots(nrows=2, ncols=1, figsize=(14,14))\n",
        "fig.suptitle('CPU VS GPU') \n",
        "\n",
        "ax1.plot(df.size_of_matrix, df.time_for_CPU, color='y', label = 'CPU', linewidth=2)\n",
        "ax1.plot(df.size_of_matrix, df.time_for_GPU_cupy, color='m', label = 'Cupy', linewidth=2)\n",
        "ax1.plot(df.size_of_matrix, df.time_for_GPU_pycuda, color='r', label = 'pyCUDA', linewidth=2)\n",
        "ax1.plot(df.size_of_matrix, df.time_for_GPU_skcuda, color='g', label = 'skCUDA', linewidth=2)\n",
        "ax1.legend(loc=\"upper left\", fontsize=14)\n",
        "ax1.set_xlabel('Matrix size')\n",
        "ax1.set_ylabel('Proccesing time')\n",
        "ax1.set_title('Matrix multiplication time')\n",
        "ax1.grid()\n",
        "\n",
        "ax2.plot(df.size_of_matrix, df['boost cupy & cpu'], label = 'cupy vs cpu', color='y', linewidth=2)\n",
        "ax2.plot(df.size_of_matrix, df['boost pycuda & cpu'],label = 'pycuda vs cpu', color='m', linewidth=2)\n",
        "ax2.plot(df.size_of_matrix, df['boost skcuda & cpu'],label = 'skcuda vs cpu', color='r', linewidth=2)\n",
        "ax2.legend(loc=\"upper left\", fontsize=14)\n",
        "ax2.set_xlabel('Matrix size')\n",
        "ax2.set_ylabel('boost')\n",
        "ax2.set_title('boost with GPU')\n",
        "ax2.grid()\n",
        "\n",
        "\n",
        "plt.show()\n",
        "fig.savefig('plot.svg')"
      ],
      "execution_count": 84,
      "outputs": [
        {
          "output_type": "display_data",
          "data": {
            "image/png": "[encoded data removed]",
            "text/plain": [
              "<Figure size 1008x1008 with 2 Axes>"
            ]
          },
          "metadata": {
            "tags": [],
            "needs_background": "light"
          }
        }
      ]
    },
    {
      "cell_type": "code",
      "metadata": {
        "id": "x-M9Koujq5hk",
        "outputId": "b0558e3a-171d-4d7d-cafd-8fcf8f16267a",
        "colab": {
          "base_uri": "https://localhost:8080/",
          "height": 542
        }
      },
      "source": [
        "fig = go.Figure()\n",
        "\n",
        "fig.add_trace(go.Scatter(\n",
        "    x=df['size_of_matrix'], y=df['time_for_CPU'],\n",
        "    name='CPU',\n",
        "    mode='lines+markers',\n",
        "))\n",
        "\n",
        "fig.add_trace(go.Scatter(\n",
        "    x=df['size_of_matrix'], y=df['time_for_GPU_cupy'],\n",
        "    name='CUPY',\n",
        "    mode='lines+markers'\n",
        "))\n",
        "\n",
        "fig.add_trace(go.Scatter(\n",
        "    x=df['size_of_matrix'], y=df['time_for_GPU_pycuda'],\n",
        "    name='PYCUDA',\n",
        "    mode='lines+markers'\n",
        "))\n",
        "fig.add_trace(go.Scatter(\n",
        "    x=df['size_of_matrix'], y=df['time_for_GPU_skcuda'],\n",
        "    name='skCUDA',\n",
        "    mode='lines+markers'\n",
        "))\n",
        "fig.update_layout(\n",
        "    title=\"Time\",\n",
        "    xaxis_title=\"size of matrix\",\n",
        "    yaxis_title=\"processing time\",\n",
        "    font=dict(\n",
        "        size=14,\n",
        "    )\n",
        ")\n",
        "\n",
        "fig.show()"
      ],
      "execution_count": 85,
      "outputs": [
        {
          "output_type": "display_data",
          "data": {
            "text/html": [
              "<html>\n",
              "<head><meta charset=\"utf-8\" /></head>\n",
              "<body>\n",
              "    <div>\n",
              "            <script src=\"https://cdnjs.cloudflare.com/ajax/libs/mathjax/2.7.5/MathJax.js?config=TeX-AMS-MML_SVG\"></script><script type=\"text/javascript\">if (window.MathJax) {MathJax.Hub.Config({SVG: {font: \"STIX-Web\"}});}</script>\n",
              "                <script type=\"text/javascript\">window.PlotlyConfig = {MathJaxConfig: 'local'};</script>\n",
              "        <script src=\"https://cdn.plot.ly/plotly-latest.min.js\"></script>    \n",
              "            <div id=\"5cea158e-b980-4efd-9695-20e0dd8a0988\" class=\"plotly-graph-div\" style=\"height:525px; width:100%;\"></div>\n",
              "            <script type=\"text/javascript\">\n",
              "                \n",
              "                    window.PLOTLYENV=window.PLOTLYENV || {};\n",
              "                    \n",
              "                if (document.getElementById(\"5cea158e-b980-4efd-9695-20e0dd8a0988\")) {\n",
              "                    Plotly.newPlot(\n",
              "                        '5cea158e-b980-4efd-9695-20e0dd8a0988',\n",
              "                        [{\"mode\": \"lines+markers\", \"name\": \"CPU\", \"type\": \"scatter\", \"x\": [50, 100, 150, 200, 250, 300, 350, 400, 450, 500, 550, 600, 650, 700, 750, 800, 850, 900, 950, 1000, 1050, 1100, 1150, 1200, 1250, 1300, 1350, 1400, 1450, 1500, 1550, 1600, 1650, 1700, 1750, 1800, 1850, 1900, 1950], \"y\": [0.00018525123596191406, 0.0152130126953125, 0.0003139972686767578, 0.0005197525024414062, 0.0007677078247070312, 0.0012745857238769531, 0.002221345901489258, 0.002157449722290039, 0.003098726272583008, 0.004347324371337891, 0.00600743293762207, 0.0064160823822021484, 0.008318901062011719, 0.0107421875, 0.012858390808105469, 0.015358209609985352, 0.018610477447509766, 0.022473812103271484, 0.02607250213623047, 0.030468463897705078, 0.037401676177978516, 0.041939735412597656, 0.05034279823303223, 0.05546236038208008, 0.06078171730041504, 0.08428621292114258, 0.08715033531188965, 0.09929656982421875, 0.09851384162902832, 0.10631203651428223, 0.11422038078308105, 0.12091684341430664, 0.1397418975830078, 0.1441946029663086, 0.15880680084228516, 0.17183256149291992, 0.1944117546081543, 0.20917344093322754, 0.22572803497314453]}, {\"mode\": \"lines+markers\", \"name\": \"CUPY\", \"type\": \"scatter\", \"x\": [50, 100, 150, 200, 250, 300, 350, 400, 450, 500, 550, 600, 650, 700, 750, 800, 850, 900, 950, 1000, 1050, 1100, 1150, 1200, 1250, 1300, 1350, 1400, 1450, 1500, 1550, 1600, 1650, 1700, 1750, 1800, 1850, 1900, 1950], \"y\": [0.0009479522705078125, 0.00015020370483398438, 6.008148193359375e-05, 5.793571472167969e-05, 0.00014925003051757812, 0.00011205673217773438, 0.0002243518829345703, 5.936622619628906e-05, 5.9604644775390625e-05, 5.650520324707031e-05, 7.653236389160156e-05, 7.104873657226562e-05, 6.532669067382812e-05, 6.961822509765625e-05, 5.5789947509765625e-05, 9.918212890625e-05, 6.794929504394531e-05, 7.05718994140625e-05, 6.103515625e-05, 8.7738037109375e-05, 7.534027099609375e-05, 6.890296936035156e-05, 7.05718994140625e-05, 7.557868957519531e-05, 7.2479248046875e-05, 7.915496826171875e-05, 8.153915405273438e-05, 8.320808410644531e-05, 9.059906005859375e-05, 8.821487426757812e-05, 0.00011897087097167969, 8.940696716308594e-05, 9.72747802734375e-05, 0.00010156631469726562, 0.00011014938354492188, 0.00013065338134765625, 0.00011467933654785156, 0.00013709068298339844, 0.00012350082397460938]}, {\"mode\": \"lines+markers\", \"name\": \"PYCUDA\", \"type\": \"scatter\", \"x\": [50, 100, 150, 200, 250, 300, 350, 400, 450, 500, 550, 600, 650, 700, 750, 800, 850, 900, 950, 1000, 1050, 1100, 1150, 1200, 1250, 1300, 1350, 1400, 1450, 1500, 1550, 1600, 1650, 1700, 1750, 1800, 1850, 1900, 1950], \"y\": [0.00012636184692382812, 5.984306335449219e-05, 4.9114227294921875e-05, 5.173683166503906e-05, 4.863739013671875e-05, 4.696846008300781e-05, 4.982948303222656e-05, 6.389617919921875e-05, 5.173683166503906e-05, 6.580352783203125e-05, 4.9591064453125e-05, 4.76837158203125e-05, 5.698204040527344e-05, 5.0067901611328125e-05, 5.173683166503906e-05, 4.744529724121094e-05, 4.482269287109375e-05, 4.9114227294921875e-05, 4.673004150390625e-05, 4.696846008300781e-05, 6.222724914550781e-05, 5.054473876953125e-05, 8.249282836914062e-05, 5.125999450683594e-05, 5.221366882324219e-05, 4.9114227294921875e-05, 5.698204040527344e-05, 5.1975250244140625e-05, 5.14984130859375e-05, 5.91278076171875e-05, 8.702278137207031e-05, 5.698204040527344e-05, 8.916854858398438e-05, 6.556510925292969e-05, 6.365776062011719e-05, 6.747245788574219e-05, 6.818771362304688e-05, 8.821487426757812e-05, 6.580352783203125e-05]}, {\"mode\": \"lines+markers\", \"name\": \"skCUDA\", \"type\": \"scatter\", \"x\": [50, 100, 150, 200, 250, 300, 350, 400, 450, 500, 550, 600, 650, 700, 750, 800, 850, 900, 950, 1000, 1050, 1100, 1150, 1200, 1250, 1300, 1350, 1400, 1450, 1500, 1550, 1600, 1650, 1700, 1750, 1800, 1850, 1900, 1950], \"y\": [0.28644657135009766, 0.0003376007080078125, 0.00032591819763183594, 0.0002856254577636719, 0.00040078163146972656, 0.000339508056640625, 0.0003464221954345703, 0.0005958080291748047, 0.0004715919494628906, 0.0005195140838623047, 0.0007979869842529297, 0.0012688636779785156, 0.0009586811065673828, 0.0008826255798339844, 0.0009236335754394531, 0.00412440299987793, 0.0037107467651367188, 0.004403829574584961, 0.004675149917602539, 0.0015535354614257812, 0.006367683410644531, 0.007037162780761719, 0.007566690444946289, 0.005059242248535156, 0.009588956832885742, 0.010525941848754883, 0.003245115280151367, 0.0030045509338378906, 0.0035309791564941406, 0.0036242008209228516, 0.004395246505737305, 0.016937971115112305, 0.015075445175170898, 0.016442537307739258, 0.016939878463745117, 0.0056650638580322266, 0.020648717880249023, 0.02126336097717285, 0.025123119354248047]}],\n",
              "                        {\"font\": {\"size\": 14}, \"template\": {\"data\": {\"bar\": [{\"error_x\": {\"color\": \"#2a3f5f\"}, \"error_y\": {\"color\": \"#2a3f5f\"}, \"marker\": {\"line\": {\"color\": \"#E5ECF6\", \"width\": 0.5}}, \"type\": \"bar\"}], \"barpolar\": [{\"marker\": {\"line\": {\"color\": \"#E5ECF6\", \"width\": 0.5}}, \"type\": \"barpolar\"}], \"carpet\": [{\"aaxis\": {\"endlinecolor\": \"#2a3f5f\", \"gridcolor\": \"white\", \"linecolor\": \"white\", \"minorgridcolor\": \"white\", \"startlinecolor\": \"#2a3f5f\"}, \"baxis\": {\"endlinecolor\": \"#2a3f5f\", \"gridcolor\": \"white\", \"linecolor\": \"white\", \"minorgridcolor\": \"white\", \"startlinecolor\": \"#2a3f5f\"}, \"type\": \"carpet\"}], \"choropleth\": [{\"colorbar\": {\"outlinewidth\": 0, \"ticks\": \"\"}, \"type\": \"choropleth\"}], \"contour\": [{\"colorbar\": {\"outlinewidth\": 0, \"ticks\": \"\"}, \"colorscale\": [[0.0, \"#0d0887\"], [0.1111111111111111, \"#46039f\"], [0.2222222222222222, \"#7201a8\"], [0.3333333333333333, \"#9c179e\"], [0.4444444444444444, \"#bd3786\"], [0.5555555555555556, \"#d8576b\"], [0.6666666666666666, \"#ed7953\"], [0.7777777777777778, \"#fb9f3a\"], [0.8888888888888888, \"#fdca26\"], [1.0, \"#f0f921\"]], \"type\": \"contour\"}], \"contourcarpet\": [{\"colorbar\": {\"outlinewidth\": 0, \"ticks\": \"\"}, \"type\": \"contourcarpet\"}], \"heatmap\": [{\"colorbar\": {\"outlinewidth\": 0, \"ticks\": \"\"}, \"colorscale\": [[0.0, \"#0d0887\"], [0.1111111111111111, \"#46039f\"], [0.2222222222222222, \"#7201a8\"], [0.3333333333333333, \"#9c179e\"], [0.4444444444444444, \"#bd3786\"], [0.5555555555555556, \"#d8576b\"], [0.6666666666666666, \"#ed7953\"], [0.7777777777777778, \"#fb9f3a\"], [0.8888888888888888, \"#fdca26\"], [1.0, \"#f0f921\"]], \"type\": \"heatmap\"}], \"heatmapgl\": [{\"colorbar\": {\"outlinewidth\": 0, \"ticks\": \"\"}, \"colorscale\": [[0.0, \"#0d0887\"], [0.1111111111111111, \"#46039f\"], [0.2222222222222222, \"#7201a8\"], [0.3333333333333333, \"#9c179e\"], [0.4444444444444444, \"#bd3786\"], [0.5555555555555556, \"#d8576b\"], [0.6666666666666666, \"#ed7953\"], [0.7777777777777778, \"#fb9f3a\"], [0.8888888888888888, \"#fdca26\"], [1.0, \"#f0f921\"]], \"type\": \"heatmapgl\"}], \"histogram\": [{\"marker\": {\"colorbar\": {\"outlinewidth\": 0, \"ticks\": \"\"}}, \"type\": \"histogram\"}], \"histogram2d\": [{\"colorbar\": {\"outlinewidth\": 0, \"ticks\": \"\"}, \"colorscale\": [[0.0, \"#0d0887\"], [0.1111111111111111, \"#46039f\"], [0.2222222222222222, \"#7201a8\"], [0.3333333333333333, \"#9c179e\"], [0.4444444444444444, \"#bd3786\"], [0.5555555555555556, \"#d8576b\"], [0.6666666666666666, \"#ed7953\"], [0.7777777777777778, \"#fb9f3a\"], [0.8888888888888888, \"#fdca26\"], [1.0, \"#f0f921\"]], \"type\": \"histogram2d\"}], \"histogram2dcontour\": [{\"colorbar\": {\"outlinewidth\": 0, \"ticks\": \"\"}, \"colorscale\": [[0.0, \"#0d0887\"], [0.1111111111111111, \"#46039f\"], [0.2222222222222222, \"#7201a8\"], [0.3333333333333333, \"#9c179e\"], [0.4444444444444444, \"#bd3786\"], [0.5555555555555556, \"#d8576b\"], [0.6666666666666666, \"#ed7953\"], [0.7777777777777778, \"#fb9f3a\"], [0.8888888888888888, \"#fdca26\"], [1.0, \"#f0f921\"]], \"type\": \"histogram2dcontour\"}], \"mesh3d\": [{\"colorbar\": {\"outlinewidth\": 0, \"ticks\": \"\"}, \"type\": \"mesh3d\"}], \"parcoords\": [{\"line\": {\"colorbar\": {\"outlinewidth\": 0, \"ticks\": \"\"}}, \"type\": \"parcoords\"}], \"pie\": [{\"automargin\": true, \"type\": \"pie\"}], \"scatter\": [{\"marker\": {\"colorbar\": {\"outlinewidth\": 0, \"ticks\": \"\"}}, \"type\": \"scatter\"}], \"scatter3d\": [{\"line\": {\"colorbar\": {\"outlinewidth\": 0, \"ticks\": \"\"}}, \"marker\": {\"colorbar\": {\"outlinewidth\": 0, \"ticks\": \"\"}}, \"type\": \"scatter3d\"}], \"scattercarpet\": [{\"marker\": {\"colorbar\": {\"outlinewidth\": 0, \"ticks\": \"\"}}, \"type\": \"scattercarpet\"}], \"scattergeo\": [{\"marker\": {\"colorbar\": {\"outlinewidth\": 0, \"ticks\": \"\"}}, \"type\": \"scattergeo\"}], \"scattergl\": [{\"marker\": {\"colorbar\": {\"outlinewidth\": 0, \"ticks\": \"\"}}, \"type\": \"scattergl\"}], \"scattermapbox\": [{\"marker\": {\"colorbar\": {\"outlinewidth\": 0, \"ticks\": \"\"}}, \"type\": \"scattermapbox\"}], \"scatterpolar\": [{\"marker\": {\"colorbar\": {\"outlinewidth\": 0, \"ticks\": \"\"}}, \"type\": \"scatterpolar\"}], \"scatterpolargl\": [{\"marker\": {\"colorbar\": {\"outlinewidth\": 0, \"ticks\": \"\"}}, \"type\": \"scatterpolargl\"}], \"scatterternary\": [{\"marker\": {\"colorbar\": {\"outlinewidth\": 0, \"ticks\": \"\"}}, \"type\": \"scatterternary\"}], \"surface\": [{\"colorbar\": {\"outlinewidth\": 0, \"ticks\": \"\"}, \"colorscale\": [[0.0, \"#0d0887\"], [0.1111111111111111, \"#46039f\"], [0.2222222222222222, \"#7201a8\"], [0.3333333333333333, \"#9c179e\"], [0.4444444444444444, \"#bd3786\"], [0.5555555555555556, \"#d8576b\"], [0.6666666666666666, \"#ed7953\"], [0.7777777777777778, \"#fb9f3a\"], [0.8888888888888888, \"#fdca26\"], [1.0, \"#f0f921\"]], \"type\": \"surface\"}], \"table\": [{\"cells\": {\"fill\": {\"color\": \"#EBF0F8\"}, \"line\": {\"color\": \"white\"}}, \"header\": {\"fill\": {\"color\": \"#C8D4E3\"}, \"line\": {\"color\": \"white\"}}, \"type\": \"table\"}]}, \"layout\": {\"annotationdefaults\": {\"arrowcolor\": \"#2a3f5f\", \"arrowhead\": 0, \"arrowwidth\": 1}, \"coloraxis\": {\"colorbar\": {\"outlinewidth\": 0, \"ticks\": \"\"}}, \"colorscale\": {\"diverging\": [[0, \"#8e0152\"], [0.1, \"#c51b7d\"], [0.2, \"#de77ae\"], [0.3, \"#f1b6da\"], [0.4, \"#fde0ef\"], [0.5, \"#f7f7f7\"], [0.6, \"#e6f5d0\"], [0.7, \"#b8e186\"], [0.8, \"#7fbc41\"], [0.9, \"#4d9221\"], [1, \"#276419\"]], \"sequential\": [[0.0, \"#0d0887\"], [0.1111111111111111, \"#46039f\"], [0.2222222222222222, \"#7201a8\"], [0.3333333333333333, \"#9c179e\"], [0.4444444444444444, \"#bd3786\"], [0.5555555555555556, \"#d8576b\"], [0.6666666666666666, \"#ed7953\"], [0.7777777777777778, \"#fb9f3a\"], [0.8888888888888888, \"#fdca26\"], [1.0, \"#f0f921\"]], \"sequentialminus\": [[0.0, \"#0d0887\"], [0.1111111111111111, \"#46039f\"], [0.2222222222222222, \"#7201a8\"], [0.3333333333333333, \"#9c179e\"], [0.4444444444444444, \"#bd3786\"], [0.5555555555555556, \"#d8576b\"], [0.6666666666666666, \"#ed7953\"], [0.7777777777777778, \"#fb9f3a\"], [0.8888888888888888, \"#fdca26\"], [1.0, \"#f0f921\"]]}, \"colorway\": [\"#636efa\", \"#EF553B\", \"#00cc96\", \"#ab63fa\", \"#FFA15A\", \"#19d3f3\", \"#FF6692\", \"#B6E880\", \"#FF97FF\", \"#FECB52\"], \"font\": {\"color\": \"#2a3f5f\"}, \"geo\": {\"bgcolor\": \"white\", \"lakecolor\": \"white\", \"landcolor\": \"#E5ECF6\", \"showlakes\": true, \"showland\": true, \"subunitcolor\": \"white\"}, \"hoverlabel\": {\"align\": \"left\"}, \"hovermode\": \"closest\", \"mapbox\": {\"style\": \"light\"}, \"paper_bgcolor\": \"white\", \"plot_bgcolor\": \"#E5ECF6\", \"polar\": {\"angularaxis\": {\"gridcolor\": \"white\", \"linecolor\": \"white\", \"ticks\": \"\"}, \"bgcolor\": \"#E5ECF6\", \"radialaxis\": {\"gridcolor\": \"white\", \"linecolor\": \"white\", \"ticks\": \"\"}}, \"scene\": {\"xaxis\": {\"backgroundcolor\": \"#E5ECF6\", \"gridcolor\": \"white\", \"gridwidth\": 2, \"linecolor\": \"white\", \"showbackground\": true, \"ticks\": \"\", \"zerolinecolor\": \"white\"}, \"yaxis\": {\"backgroundcolor\": \"#E5ECF6\", \"gridcolor\": \"white\", \"gridwidth\": 2, \"linecolor\": \"white\", \"showbackground\": true, \"ticks\": \"\", \"zerolinecolor\": \"white\"}, \"zaxis\": {\"backgroundcolor\": \"#E5ECF6\", \"gridcolor\": \"white\", \"gridwidth\": 2, \"linecolor\": \"white\", \"showbackground\": true, \"ticks\": \"\", \"zerolinecolor\": \"white\"}}, \"shapedefaults\": {\"line\": {\"color\": \"#2a3f5f\"}}, \"ternary\": {\"aaxis\": {\"gridcolor\": \"white\", \"linecolor\": \"white\", \"ticks\": \"\"}, \"baxis\": {\"gridcolor\": \"white\", \"linecolor\": \"white\", \"ticks\": \"\"}, \"bgcolor\": \"#E5ECF6\", \"caxis\": {\"gridcolor\": \"white\", \"linecolor\": \"white\", \"ticks\": \"\"}}, \"title\": {\"x\": 0.05}, \"xaxis\": {\"automargin\": true, \"gridcolor\": \"white\", \"linecolor\": \"white\", \"ticks\": \"\", \"title\": {\"standoff\": 15}, \"zerolinecolor\": \"white\", \"zerolinewidth\": 2}, \"yaxis\": {\"automargin\": true, \"gridcolor\": \"white\", \"linecolor\": \"white\", \"ticks\": \"\", \"title\": {\"standoff\": 15}, \"zerolinecolor\": \"white\", \"zerolinewidth\": 2}}}, \"title\": {\"text\": \"Time\"}, \"xaxis\": {\"title\": {\"text\": \"size of matrix\"}}, \"yaxis\": {\"title\": {\"text\": \"processing time\"}}},\n",
              "                        {\"responsive\": true}\n",
              "                    ).then(function(){\n",
              "                            \n",
              "var gd = document.getElementById('5cea158e-b980-4efd-9695-20e0dd8a0988');\n",
              "var x = new MutationObserver(function (mutations, observer) {{\n",
              "        var display = window.getComputedStyle(gd).display;\n",
              "        if (!display || display === 'none') {{\n",
              "            console.log([gd, 'removed!']);\n",
              "            Plotly.purge(gd);\n",
              "            observer.disconnect();\n",
              "        }}\n",
              "}});\n",
              "\n",
              "// Listen for the removal of the full notebook cells\n",
              "var notebookContainer = gd.closest('#notebook-container');\n",
              "if (notebookContainer) {{\n",
              "    x.observe(notebookContainer, {childList: true});\n",
              "}}\n",
              "\n",
              "// Listen for the clearing of the current output cell\n",
              "var outputEl = gd.closest('.output');\n",
              "if (outputEl) {{\n",
              "    x.observe(outputEl, {childList: true});\n",
              "}}\n",
              "\n",
              "                        })\n",
              "                };\n",
              "                \n",
              "            </script>\n",
              "        </div>\n",
              "</body>\n",
              "</html>"
            ]
          },
          "metadata": {
            "tags": []
          }
        }
      ]
    },
    {
      "cell_type": "code",
      "metadata": {
        "id": "4z3ONW3Luedf",
        "outputId": "36036551-0025-438b-87bf-4f96d90d656b",
        "colab": {
          "base_uri": "https://localhost:8080/",
          "height": 542
        }
      },
      "source": [
        "fig = go.Figure()\n",
        "\n",
        "fig.add_trace(go.Scatter(\n",
        "    x=df['size_of_matrix'], y=df['boost cupy & cpu'],\n",
        "    name='boost cupy & cpu',\n",
        "    mode='lines+markers'\n",
        "))\n",
        "\n",
        "fig.add_trace(go.Scatter(\n",
        "    x=df['size_of_matrix'], y=df['boost pycuda & cpu'],\n",
        "    name='boost pycuda & cpu',\n",
        "    mode='lines+markers'\n",
        "))\n",
        "\n",
        "fig.add_trace(go.Scatter(\n",
        "    x=df['size_of_matrix'], y=df['boost skcuda & cpu'],\n",
        "    name='skcuda & cpu',\n",
        "    mode='lines+markers'\n",
        "))\n",
        "fig.update_layout(\n",
        "    title=\"pucuda,cupy,skcuda vs CPU\",\n",
        "    xaxis_title=\"size of matrix\",\n",
        "    yaxis_title=\"boost\",\n",
        "    font=dict(\n",
        "        size=14,\n",
        "    )\n",
        ")\n",
        "\n",
        "fig.show()"
      ],
      "execution_count": 86,
      "outputs": [
        {
          "output_type": "display_data",
          "data": {
            "text/html": [
              "<html>\n",
              "<head><meta charset=\"utf-8\" /></head>\n",
              "<body>\n",
              "    <div>\n",
              "            <script src=\"https://cdnjs.cloudflare.com/ajax/libs/mathjax/2.7.5/MathJax.js?config=TeX-AMS-MML_SVG\"></script><script type=\"text/javascript\">if (window.MathJax) {MathJax.Hub.Config({SVG: {font: \"STIX-Web\"}});}</script>\n",
              "                <script type=\"text/javascript\">window.PlotlyConfig = {MathJaxConfig: 'local'};</script>\n",
              "        <script src=\"https://cdn.plot.ly/plotly-latest.min.js\"></script>    \n",
              "            <div id=\"ae33f085-cba9-41c9-b446-1ab4a4b5c5cc\" class=\"plotly-graph-div\" style=\"height:525px; width:100%;\"></div>\n",
              "            <script type=\"text/javascript\">\n",
              "                \n",
              "                    window.PLOTLYENV=window.PLOTLYENV || {};\n",
              "                    \n",
              "                if (document.getElementById(\"ae33f085-cba9-41c9-b446-1ab4a4b5c5cc\")) {\n",
              "                    Plotly.newPlot(\n",
              "                        'ae33f085-cba9-41c9-b446-1ab4a4b5c5cc',\n",
              "                        [{\"mode\": \"lines+markers\", \"name\": \"boost cupy & cpu\", \"type\": \"scatter\", \"x\": [50, 100, 150, 200, 250, 300, 350, 400, 450, 500, 550, 600, 650, 700, 750, 800, 850, 900, 950, 1000, 1050, 1100, 1150, 1200, 1250, 1300, 1350, 1400, 1450, 1500, 1550, 1600, 1650, 1700, 1750, 1800, 1850, 1900, 1950], \"y\": [0.1954225352112676, 101.28253968253968, 5.226190476190476, 8.97119341563786, 5.143769968051118, 11.374468085106383, 9.901168969181722, 36.34136546184739, 51.988, 76.9367088607595, 78.49532710280374, 90.30536912751678, 127.34306569343066, 154.3013698630137, 230.47863247863248, 154.84855769230768, 273.8877192982456, 318.4527027027027, 427.171875, 347.26630434782606, 496.4367088607595, 608.6782006920415, 713.3547297297297, 733.8359621451104, 838.608552631579, 1064.8253012048192, 1068.8157894736842, 1193.352435530086, 1087.3605263157895, 1205.1486486486488, 960.0701402805611, 1352.432, 1436.5686274509803, 1419.7089201877934, 1441.7402597402597, 1315.1788321167883, 1695.2640332640333, 1525.8034782608695, 1827.7451737451738]}, {\"mode\": \"lines+markers\", \"name\": \"boost pycuda & cpu\", \"type\": \"scatter\", \"x\": [50, 100, 150, 200, 250, 300, 350, 400, 450, 500, 550, 600, 650, 700, 750, 800, 850, 900, 950, 1000, 1050, 1100, 1150, 1200, 1250, 1300, 1350, 1400, 1450, 1500, 1550, 1600, 1650, 1700, 1750, 1800, 1850, 1900, 1950], \"y\": [1.4660377358490566, 254.21513944223108, 6.393203883495145, 10.046082949308756, 15.784313725490197, 27.13705583756345, 44.578947368421055, 33.764925373134325, 59.894009216589865, 66.06521739130434, 121.13942307692308, 134.555, 145.99163179916317, 214.55238095238096, 248.53456221198158, 323.7035175879397, 415.20212765957444, 457.58252427184465, 557.9387755102041, 648.7005076142132, 601.0498084291188, 829.7547169811321, 610.2687861271677, 1081.9813953488372, 1164.0958904109589, 1716.126213592233, 1529.4351464435147, 1910.4587155963302, 1912.9490740740741, 1798.0040322580646, 1312.5342465753424, 2122.016736401674, 1567.1657754010696, 2199.258181818182, 2494.696629213483, 2546.7067137809186, 2851.125874125874, 2371.181081081081, 3430.3333333333335]}, {\"mode\": \"lines+markers\", \"name\": \"skcuda & cpu\", \"type\": \"scatter\", \"x\": [50, 100, 150, 200, 250, 300, 350, 400, 450, 500, 550, 600, 650, 700, 750, 800, 850, 900, 950, 1000, 1050, 1100, 1150, 1200, 1250, 1300, 1350, 1400, 1450, 1500, 1550, 1600, 1650, 1700, 1750, 1800, 1850, 1900, 1950], \"y\": [0.0006467217781269872, 45.06214689265537, 0.9634235552304315, 1.8196994991652755, 1.9155264723378942, 3.7542134831460676, 6.412250516173434, 3.6210484193677472, 6.570778564206269, 8.36805874254245, 7.528234239617568, 5.056557685080796, 8.67744342203432, 12.170718530524042, 13.921528136293237, 3.7237412567200416, 5.015291698792084, 5.1032429213361485, 5.576826967208935, 19.612338858195212, 5.873670810244121, 5.959750643718661, 6.65321233891042, 10.96258246936852, 6.3387205052338444, 8.007474687988402, 26.855851884505178, 33.0487224250119, 27.899864956110736, 29.33392539964476, 25.987252508814755, 7.1388032599974665, 9.269503882589236, 8.76960777205829, 9.374730827152327, 30.33197256007744, 9.415197385892595, 9.837270841509222, 8.984872928805967]}],\n",
              "                        {\"font\": {\"size\": 14}, \"template\": {\"data\": {\"bar\": [{\"error_x\": {\"color\": \"#2a3f5f\"}, \"error_y\": {\"color\": \"#2a3f5f\"}, \"marker\": {\"line\": {\"color\": \"#E5ECF6\", \"width\": 0.5}}, \"type\": \"bar\"}], \"barpolar\": [{\"marker\": {\"line\": {\"color\": \"#E5ECF6\", \"width\": 0.5}}, \"type\": \"barpolar\"}], \"carpet\": [{\"aaxis\": {\"endlinecolor\": \"#2a3f5f\", \"gridcolor\": \"white\", \"linecolor\": \"white\", \"minorgridcolor\": \"white\", \"startlinecolor\": \"#2a3f5f\"}, \"baxis\": {\"endlinecolor\": \"#2a3f5f\", \"gridcolor\": \"white\", \"linecolor\": \"white\", \"minorgridcolor\": \"white\", \"startlinecolor\": \"#2a3f5f\"}, \"type\": \"carpet\"}], \"choropleth\": [{\"colorbar\": {\"outlinewidth\": 0, \"ticks\": \"\"}, \"type\": \"choropleth\"}], \"contour\": [{\"colorbar\": {\"outlinewidth\": 0, \"ticks\": \"\"}, \"colorscale\": [[0.0, \"#0d0887\"], [0.1111111111111111, \"#46039f\"], [0.2222222222222222, \"#7201a8\"], [0.3333333333333333, \"#9c179e\"], [0.4444444444444444, \"#bd3786\"], [0.5555555555555556, \"#d8576b\"], [0.6666666666666666, \"#ed7953\"], [0.7777777777777778, \"#fb9f3a\"], [0.8888888888888888, \"#fdca26\"], [1.0, \"#f0f921\"]], \"type\": \"contour\"}], \"contourcarpet\": [{\"colorbar\": {\"outlinewidth\": 0, \"ticks\": \"\"}, \"type\": \"contourcarpet\"}], \"heatmap\": [{\"colorbar\": {\"outlinewidth\": 0, \"ticks\": \"\"}, \"colorscale\": [[0.0, \"#0d0887\"], [0.1111111111111111, \"#46039f\"], [0.2222222222222222, \"#7201a8\"], [0.3333333333333333, \"#9c179e\"], [0.4444444444444444, \"#bd3786\"], [0.5555555555555556, \"#d8576b\"], [0.6666666666666666, \"#ed7953\"], [0.7777777777777778, \"#fb9f3a\"], [0.8888888888888888, \"#fdca26\"], [1.0, \"#f0f921\"]], \"type\": \"heatmap\"}], \"heatmapgl\": [{\"colorbar\": {\"outlinewidth\": 0, \"ticks\": \"\"}, \"colorscale\": [[0.0, \"#0d0887\"], [0.1111111111111111, \"#46039f\"], [0.2222222222222222, \"#7201a8\"], [0.3333333333333333, \"#9c179e\"], [0.4444444444444444, \"#bd3786\"], [0.5555555555555556, \"#d8576b\"], [0.6666666666666666, \"#ed7953\"], [0.7777777777777778, \"#fb9f3a\"], [0.8888888888888888, \"#fdca26\"], [1.0, \"#f0f921\"]], \"type\": \"heatmapgl\"}], \"histogram\": [{\"marker\": {\"colorbar\": {\"outlinewidth\": 0, \"ticks\": \"\"}}, \"type\": \"histogram\"}], \"histogram2d\": [{\"colorbar\": {\"outlinewidth\": 0, \"ticks\": \"\"}, \"colorscale\": [[0.0, \"#0d0887\"], [0.1111111111111111, \"#46039f\"], [0.2222222222222222, \"#7201a8\"], [0.3333333333333333, \"#9c179e\"], [0.4444444444444444, \"#bd3786\"], [0.5555555555555556, \"#d8576b\"], [0.6666666666666666, \"#ed7953\"], [0.7777777777777778, \"#fb9f3a\"], [0.8888888888888888, \"#fdca26\"], [1.0, \"#f0f921\"]], \"type\": \"histogram2d\"}], \"histogram2dcontour\": [{\"colorbar\": {\"outlinewidth\": 0, \"ticks\": \"\"}, \"colorscale\": [[0.0, \"#0d0887\"], [0.1111111111111111, \"#46039f\"], [0.2222222222222222, \"#7201a8\"], [0.3333333333333333, \"#9c179e\"], [0.4444444444444444, \"#bd3786\"], [0.5555555555555556, \"#d8576b\"], [0.6666666666666666, \"#ed7953\"], [0.7777777777777778, \"#fb9f3a\"], [0.8888888888888888, \"#fdca26\"], [1.0, \"#f0f921\"]], \"type\": \"histogram2dcontour\"}], \"mesh3d\": [{\"colorbar\": {\"outlinewidth\": 0, \"ticks\": \"\"}, \"type\": \"mesh3d\"}], \"parcoords\": [{\"line\": {\"colorbar\": {\"outlinewidth\": 0, \"ticks\": \"\"}}, \"type\": \"parcoords\"}], \"pie\": [{\"automargin\": true, \"type\": \"pie\"}], \"scatter\": [{\"marker\": {\"colorbar\": {\"outlinewidth\": 0, \"ticks\": \"\"}}, \"type\": \"scatter\"}], \"scatter3d\": [{\"line\": {\"colorbar\": {\"outlinewidth\": 0, \"ticks\": \"\"}}, \"marker\": {\"colorbar\": {\"outlinewidth\": 0, \"ticks\": \"\"}}, \"type\": \"scatter3d\"}], \"scattercarpet\": [{\"marker\": {\"colorbar\": {\"outlinewidth\": 0, \"ticks\": \"\"}}, \"type\": \"scattercarpet\"}], \"scattergeo\": [{\"marker\": {\"colorbar\": {\"outlinewidth\": 0, \"ticks\": \"\"}}, \"type\": \"scattergeo\"}], \"scattergl\": [{\"marker\": {\"colorbar\": {\"outlinewidth\": 0, \"ticks\": \"\"}}, \"type\": \"scattergl\"}], \"scattermapbox\": [{\"marker\": {\"colorbar\": {\"outlinewidth\": 0, \"ticks\": \"\"}}, \"type\": \"scattermapbox\"}], \"scatterpolar\": [{\"marker\": {\"colorbar\": {\"outlinewidth\": 0, \"ticks\": \"\"}}, \"type\": \"scatterpolar\"}], \"scatterpolargl\": [{\"marker\": {\"colorbar\": {\"outlinewidth\": 0, \"ticks\": \"\"}}, \"type\": \"scatterpolargl\"}], \"scatterternary\": [{\"marker\": {\"colorbar\": {\"outlinewidth\": 0, \"ticks\": \"\"}}, \"type\": \"scatterternary\"}], \"surface\": [{\"colorbar\": {\"outlinewidth\": 0, \"ticks\": \"\"}, \"colorscale\": [[0.0, \"#0d0887\"], [0.1111111111111111, \"#46039f\"], [0.2222222222222222, \"#7201a8\"], [0.3333333333333333, \"#9c179e\"], [0.4444444444444444, \"#bd3786\"], [0.5555555555555556, \"#d8576b\"], [0.6666666666666666, \"#ed7953\"], [0.7777777777777778, \"#fb9f3a\"], [0.8888888888888888, \"#fdca26\"], [1.0, \"#f0f921\"]], \"type\": \"surface\"}], \"table\": [{\"cells\": {\"fill\": {\"color\": \"#EBF0F8\"}, \"line\": {\"color\": \"white\"}}, \"header\": {\"fill\": {\"color\": \"#C8D4E3\"}, \"line\": {\"color\": \"white\"}}, \"type\": \"table\"}]}, \"layout\": {\"annotationdefaults\": {\"arrowcolor\": \"#2a3f5f\", \"arrowhead\": 0, \"arrowwidth\": 1}, \"coloraxis\": {\"colorbar\": {\"outlinewidth\": 0, \"ticks\": \"\"}}, \"colorscale\": {\"diverging\": [[0, \"#8e0152\"], [0.1, \"#c51b7d\"], [0.2, \"#de77ae\"], [0.3, \"#f1b6da\"], [0.4, \"#fde0ef\"], [0.5, \"#f7f7f7\"], [0.6, \"#e6f5d0\"], [0.7, \"#b8e186\"], [0.8, \"#7fbc41\"], [0.9, \"#4d9221\"], [1, \"#276419\"]], \"sequential\": [[0.0, \"#0d0887\"], [0.1111111111111111, \"#46039f\"], [0.2222222222222222, \"#7201a8\"], [0.3333333333333333, \"#9c179e\"], [0.4444444444444444, \"#bd3786\"], [0.5555555555555556, \"#d8576b\"], [0.6666666666666666, \"#ed7953\"], [0.7777777777777778, \"#fb9f3a\"], [0.8888888888888888, \"#fdca26\"], [1.0, \"#f0f921\"]], \"sequentialminus\": [[0.0, \"#0d0887\"], [0.1111111111111111, \"#46039f\"], [0.2222222222222222, \"#7201a8\"], [0.3333333333333333, \"#9c179e\"], [0.4444444444444444, \"#bd3786\"], [0.5555555555555556, \"#d8576b\"], [0.6666666666666666, \"#ed7953\"], [0.7777777777777778, \"#fb9f3a\"], [0.8888888888888888, \"#fdca26\"], [1.0, \"#f0f921\"]]}, \"colorway\": [\"#636efa\", \"#EF553B\", \"#00cc96\", \"#ab63fa\", \"#FFA15A\", \"#19d3f3\", \"#FF6692\", \"#B6E880\", \"#FF97FF\", \"#FECB52\"], \"font\": {\"color\": \"#2a3f5f\"}, \"geo\": {\"bgcolor\": \"white\", \"lakecolor\": \"white\", \"landcolor\": \"#E5ECF6\", \"showlakes\": true, \"showland\": true, \"subunitcolor\": \"white\"}, \"hoverlabel\": {\"align\": \"left\"}, \"hovermode\": \"closest\", \"mapbox\": {\"style\": \"light\"}, \"paper_bgcolor\": \"white\", \"plot_bgcolor\": \"#E5ECF6\", \"polar\": {\"angularaxis\": {\"gridcolor\": \"white\", \"linecolor\": \"white\", \"ticks\": \"\"}, \"bgcolor\": \"#E5ECF6\", \"radialaxis\": {\"gridcolor\": \"white\", \"linecolor\": \"white\", \"ticks\": \"\"}}, \"scene\": {\"xaxis\": {\"backgroundcolor\": \"#E5ECF6\", \"gridcolor\": \"white\", \"gridwidth\": 2, \"linecolor\": \"white\", \"showbackground\": true, \"ticks\": \"\", \"zerolinecolor\": \"white\"}, \"yaxis\": {\"backgroundcolor\": \"#E5ECF6\", \"gridcolor\": \"white\", \"gridwidth\": 2, \"linecolor\": \"white\", \"showbackground\": true, \"ticks\": \"\", \"zerolinecolor\": \"white\"}, \"zaxis\": {\"backgroundcolor\": \"#E5ECF6\", \"gridcolor\": \"white\", \"gridwidth\": 2, \"linecolor\": \"white\", \"showbackground\": true, \"ticks\": \"\", \"zerolinecolor\": \"white\"}}, \"shapedefaults\": {\"line\": {\"color\": \"#2a3f5f\"}}, \"ternary\": {\"aaxis\": {\"gridcolor\": \"white\", \"linecolor\": \"white\", \"ticks\": \"\"}, \"baxis\": {\"gridcolor\": \"white\", \"linecolor\": \"white\", \"ticks\": \"\"}, \"bgcolor\": \"#E5ECF6\", \"caxis\": {\"gridcolor\": \"white\", \"linecolor\": \"white\", \"ticks\": \"\"}}, \"title\": {\"x\": 0.05}, \"xaxis\": {\"automargin\": true, \"gridcolor\": \"white\", \"linecolor\": \"white\", \"ticks\": \"\", \"title\": {\"standoff\": 15}, \"zerolinecolor\": \"white\", \"zerolinewidth\": 2}, \"yaxis\": {\"automargin\": true, \"gridcolor\": \"white\", \"linecolor\": \"white\", \"ticks\": \"\", \"title\": {\"standoff\": 15}, \"zerolinecolor\": \"white\", \"zerolinewidth\": 2}}}, \"title\": {\"text\": \"pucuda,cupy,skcuda vs CPU\"}, \"xaxis\": {\"title\": {\"text\": \"size of matrix\"}}, \"yaxis\": {\"title\": {\"text\": \"boost\"}}},\n",
              "                        {\"responsive\": true}\n",
              "                    ).then(function(){\n",
              "                            \n",
              "var gd = document.getElementById('ae33f085-cba9-41c9-b446-1ab4a4b5c5cc');\n",
              "var x = new MutationObserver(function (mutations, observer) {{\n",
              "        var display = window.getComputedStyle(gd).display;\n",
              "        if (!display || display === 'none') {{\n",
              "            console.log([gd, 'removed!']);\n",
              "            Plotly.purge(gd);\n",
              "            observer.disconnect();\n",
              "        }}\n",
              "}});\n",
              "\n",
              "// Listen for the removal of the full notebook cells\n",
              "var notebookContainer = gd.closest('#notebook-container');\n",
              "if (notebookContainer) {{\n",
              "    x.observe(notebookContainer, {childList: true});\n",
              "}}\n",
              "\n",
              "// Listen for the clearing of the current output cell\n",
              "var outputEl = gd.closest('.output');\n",
              "if (outputEl) {{\n",
              "    x.observe(outputEl, {childList: true});\n",
              "}}\n",
              "\n",
              "                        })\n",
              "                };\n",
              "                \n",
              "            </script>\n",
              "        </div>\n",
              "</body>\n",
              "</html>"
            ]
          },
          "metadata": {
            "tags": []
          }
        }
      ]
    },
    {
      "cell_type": "code",
      "metadata": {
        "id": "7FYoP37zu-6r"
      },
      "source": [
        ""
      ],
      "execution_count": 64,
      "outputs": []
    }
  ]
}