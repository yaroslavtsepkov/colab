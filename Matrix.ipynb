{
  "nbformat": 4,
  "nbformat_minor": 0,
  "metadata": {
    "colab": {
      "name": "Matrix.ipynb",
      "provenance": [],
      "authorship_tag": "ABX9TyPfJZijdGkjnNRTalx5IBh5",
      "include_colab_link": true
    },
    "kernelspec": {
      "name": "python3",
      "display_name": "Python 3"
    },
    "accelerator": "GPU"
  },
  "cells": [
    {
      "cell_type": "markdown",
      "metadata": {
        "id": "view-in-github",
        "colab_type": "text"
      },
      "source": [
        "<a href=\"https://colab.research.google.com/github/yaroslavtsepkov/colab/blob/lab_0/Matrix.ipynb\" target=\"_parent\"><img src=\"https://colab.research.google.com/assets/colab-badge.svg\" alt=\"Open In Colab\"/></a>"
      ]
    },
    {
      "cell_type": "markdown",
      "metadata": {
        "id": "u_ynz-JWfn0l",
        "colab_type": "text"
      },
      "source": [
        "# Matrix multiplication\n",
        "### CPU (numpy) VS GPU(cupy)\n"
      ]
    },
    {
      "cell_type": "code",
      "metadata": {
        "id": "2lRpRZX7w9Na",
        "colab_type": "code",
        "colab": {}
      },
      "source": [
        "import numpy as np\n",
        "import cupy as cp\n",
        "import time\n",
        "import pandas as pd\n",
        "import matplotlib.pyplot as plt"
      ],
      "execution_count": null,
      "outputs": []
    },
    {
      "cell_type": "code",
      "metadata": {
        "id": "oD70YAzRFKEb",
        "colab_type": "code",
        "colab": {}
      },
      "source": [
        "def cpuMult(n):\n",
        "    size = []\n",
        "    time_cpu = []\n",
        "    shapes = np.array([])\n",
        "    while n < 2000:\n",
        "        s = time.time()\n",
        "        size.append(n)\n",
        "        matrix = np.random.uniform(size=(n,n))\n",
        "        np.matmul(matrix, matrix)\n",
        "        n += 50\n",
        "        p = time.time()\n",
        "        time_cpu.append(p-s)\n",
        "    return size, time_cpu"
      ],
      "execution_count": null,
      "outputs": []
    },
    {
      "cell_type": "code",
      "metadata": {
        "id": "NJLk07eugYEf",
        "colab_type": "code",
        "colab": {}
      },
      "source": [
        "def gpuMult(n):\n",
        "    size = []\n",
        "    time_gpu = []\n",
        "    while n < 2000:\n",
        "        s = time.time()\n",
        "        size.append(n)\n",
        "        matrix = cp.random.uniform(size=(n,n))\n",
        "        cp.matmul(matrix, matrix)\n",
        "        n += 50\n",
        "        p = time.time()\n",
        "        time_gpu.append(p-s)\n",
        "    return size, time_gpu"
      ],
      "execution_count": null,
      "outputs": []
    },
    {
      "cell_type": "code",
      "metadata": {
        "id": "yqzVttYPKUkw",
        "colab_type": "code",
        "colab": {}
      },
      "source": [
        "size_list_cpu, time_list_cpu = cpuMult(100)\n",
        "size_list_gpu, time_list_gpu = gpuMult(100)"
      ],
      "execution_count": null,
      "outputs": []
    },
    {
      "cell_type": "code",
      "metadata": {
        "id": "nXf9Rxid3OiH",
        "colab_type": "code",
        "colab": {
          "base_uri": "https://localhost:8080/",
          "height": 350
        },
        "outputId": "2795c982-36a6-4c04-ae27-7ee7d5f3a127"
      },
      "source": [
        "if size_list_cpu and size_list_gpu and time_list_cpu and time_list_gpu:\n",
        "    fig, ax = plt.subplots()\n",
        "    ax = plt.plot(size_list_cpu, time_list_cpu, color='y', label = 'CPU')\n",
        "    ax = plt.plot(size_list_gpu, time_list_gpu, color='m', label = 'GPU')\n",
        "    plt.legend(loc=\"upper left\")\n",
        "    plt.xlabel('size')\n",
        "    plt.ylabel('time')\n",
        "    plt.title('CPU VS GPU')\n",
        "    fig.set_figwidth(10)\n",
        "    fig.set_figheight(5)\n",
        "    plt.grid()\n",
        "    plt.show()\n",
        "else:\n",
        "    print('No data to build graphs')"
      ],
      "execution_count": null,
      "outputs": [
        {
          "output_type": "display_data",
          "data": {
            "image/png": "[encoded data removed]",
            "text/plain": [
              "<Figure size 720x360 with 1 Axes>"
            ]
          },
          "metadata": {
            "tags": [],
            "needs_background": "light"
          }
        }
      ]
    }
  ]
}